{
 "cells": [
  {
   "cell_type": "code",
   "execution_count": null,
   "metadata": {},
   "outputs": [],
   "source": [
    "import cv2\n",
    "from rateme.utils import RateMe\n",
    "\n",
    "model = RateMe()\n",
    "img = cv2.imread('dislike.jpg')\n",
    "model.predict(img)\n",
    "#'dislike'"
   ]
  },
  {
   "cell_type": "code",
   "execution_count": null,
   "metadata": {},
   "outputs": [],
   "source": []
  },
  {
   "cell_type": "code",
   "execution_count": null,
   "metadata": {},
   "outputs": [],
   "source": [
    "import cv2\n",
    "from pixellink import PixelLinkDetector\n",
    "from text_recognition import TextRecognizer\n",
    " \n",
    "img = cv2.imread('helloworld.png')\n",
    "detector4 = PixelLinkDetector('text-detection-0004.xml')\n",
    "detector4.detect(img)\n",
    "bboxes = detector4.decode()\n",
    "\n",
    "recognizer12 = TextRecognizer('./text-recognition-0012.xml')\n",
    "recognizer12.do_ocr(img, bboxes)\n"
   ]
  },
  {
   "cell_type": "code",
   "execution_count": null,
   "metadata": {},
   "outputs": [],
   "source": [
    "import matplotlib.pyplot as plt\n",
    "\n",
    "\n",
    "tmp = img.copy()\n",
    "for b in bboxes:\n",
    "    cv2.rectangle(tmp, (b[1], b[0]), (b[3], b[2]), (255, 255, 0), 5)\n",
    "plt.imshow(tmp)"
   ]
  },
  {
   "cell_type": "code",
   "execution_count": null,
   "metadata": {},
   "outputs": [],
   "source": [
    "# plt.imshow(detector4.get_mask())"
   ]
  },
  {
   "cell_type": "code",
   "execution_count": null,
   "metadata": {},
   "outputs": [],
   "source": []
  },
  {
   "cell_type": "code",
   "execution_count": null,
   "metadata": {},
   "outputs": [],
   "source": [
    "import cv2\n",
    "import matplotlib.pyplot as plt\n",
    "\n",
    "\n",
    "cap = cv2.VideoCapture('short_video.mp4')\n",
    "\n",
    "a, img = cap.read()\n",
    "\n",
    "plt.imshow(img[::,::,::-1])"
   ]
  },
  {
   "cell_type": "code",
   "execution_count": null,
   "metadata": {},
   "outputs": [],
   "source": []
  }
 ],
 "metadata": {
  "kernelspec": {
   "display_name": "Python 3",
   "language": "python",
   "name": "python3"
  },
  "language_info": {
   "codemirror_mode": {
    "name": "ipython",
    "version": 3
   },
   "file_extension": ".py",
   "mimetype": "text/x-python",
   "name": "python",
   "nbconvert_exporter": "python",
   "pygments_lexer": "ipython3",
   "version": "3.6.9"
  }
 },
 "nbformat": 4,
 "nbformat_minor": 4
}
